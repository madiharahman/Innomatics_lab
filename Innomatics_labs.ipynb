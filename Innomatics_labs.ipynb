{
 "cells": [
  {
   "cell_type": "code",
   "execution_count": 1,
   "id": "38900fa5",
   "metadata": {},
   "outputs": [],
   "source": [
    "## Importing Libraries and Reading Files"
   ]
  },
  {
   "cell_type": "code",
   "execution_count": 2,
   "id": "c4c8e171",
   "metadata": {},
   "outputs": [],
   "source": [
    "import pandas as pd\n",
    "import matplotlib.pyplot as plt"
   ]
  },
  {
   "cell_type": "code",
   "execution_count": 3,
   "id": "bc55d725",
   "metadata": {},
   "outputs": [],
   "source": [
    "movies = pd.read_csv(r\"D:/Desktop/movie_data/movies.csv\")"
   ]
  },
  {
   "cell_type": "code",
   "execution_count": 4,
   "id": "8d37e22a",
   "metadata": {},
   "outputs": [
    {
     "data": {
      "text/html": [
       "<div>\n",
       "<style scoped>\n",
       "    .dataframe tbody tr th:only-of-type {\n",
       "        vertical-align: middle;\n",
       "    }\n",
       "\n",
       "    .dataframe tbody tr th {\n",
       "        vertical-align: top;\n",
       "    }\n",
       "\n",
       "    .dataframe thead th {\n",
       "        text-align: right;\n",
       "    }\n",
       "</style>\n",
       "<table border=\"1\" class=\"dataframe\">\n",
       "  <thead>\n",
       "    <tr style=\"text-align: right;\">\n",
       "      <th></th>\n",
       "      <th>movieId</th>\n",
       "      <th>title</th>\n",
       "      <th>genres</th>\n",
       "    </tr>\n",
       "  </thead>\n",
       "  <tbody>\n",
       "    <tr>\n",
       "      <th>0</th>\n",
       "      <td>1</td>\n",
       "      <td>Toy Story (1995)</td>\n",
       "      <td>Adventure|Animation|Children|Comedy|Fantasy</td>\n",
       "    </tr>\n",
       "    <tr>\n",
       "      <th>1</th>\n",
       "      <td>2</td>\n",
       "      <td>Jumanji (1995)</td>\n",
       "      <td>Adventure|Children|Fantasy</td>\n",
       "    </tr>\n",
       "    <tr>\n",
       "      <th>2</th>\n",
       "      <td>3</td>\n",
       "      <td>Grumpier Old Men (1995)</td>\n",
       "      <td>Comedy|Romance</td>\n",
       "    </tr>\n",
       "    <tr>\n",
       "      <th>3</th>\n",
       "      <td>4</td>\n",
       "      <td>Waiting to Exhale (1995)</td>\n",
       "      <td>Comedy|Drama|Romance</td>\n",
       "    </tr>\n",
       "    <tr>\n",
       "      <th>4</th>\n",
       "      <td>5</td>\n",
       "      <td>Father of the Bride Part II (1995)</td>\n",
       "      <td>Comedy</td>\n",
       "    </tr>\n",
       "  </tbody>\n",
       "</table>\n",
       "</div>"
      ],
      "text/plain": [
       "   movieId                               title  \\\n",
       "0        1                    Toy Story (1995)   \n",
       "1        2                      Jumanji (1995)   \n",
       "2        3             Grumpier Old Men (1995)   \n",
       "3        4            Waiting to Exhale (1995)   \n",
       "4        5  Father of the Bride Part II (1995)   \n",
       "\n",
       "                                        genres  \n",
       "0  Adventure|Animation|Children|Comedy|Fantasy  \n",
       "1                   Adventure|Children|Fantasy  \n",
       "2                               Comedy|Romance  \n",
       "3                         Comedy|Drama|Romance  \n",
       "4                                       Comedy  "
      ]
     },
     "execution_count": 4,
     "metadata": {},
     "output_type": "execute_result"
    }
   ],
   "source": [
    "movies.head()"
   ]
  },
  {
   "cell_type": "code",
   "execution_count": 5,
   "id": "ce084075",
   "metadata": {},
   "outputs": [
    {
     "data": {
      "text/plain": [
       "(9742, 3)"
      ]
     },
     "execution_count": 5,
     "metadata": {},
     "output_type": "execute_result"
    }
   ],
   "source": [
    "movies.shape"
   ]
  },
  {
   "cell_type": "code",
   "execution_count": 6,
   "id": "eedf2b8d",
   "metadata": {},
   "outputs": [],
   "source": [
    "ratings = pd.read_csv(r\"D:/Desktop/movie_data/ratings.csv\")"
   ]
  },
  {
   "cell_type": "code",
   "execution_count": 7,
   "id": "8bfcd408",
   "metadata": {},
   "outputs": [
    {
     "data": {
      "text/html": [
       "<div>\n",
       "<style scoped>\n",
       "    .dataframe tbody tr th:only-of-type {\n",
       "        vertical-align: middle;\n",
       "    }\n",
       "\n",
       "    .dataframe tbody tr th {\n",
       "        vertical-align: top;\n",
       "    }\n",
       "\n",
       "    .dataframe thead th {\n",
       "        text-align: right;\n",
       "    }\n",
       "</style>\n",
       "<table border=\"1\" class=\"dataframe\">\n",
       "  <thead>\n",
       "    <tr style=\"text-align: right;\">\n",
       "      <th></th>\n",
       "      <th>userId</th>\n",
       "      <th>movieId</th>\n",
       "      <th>rating</th>\n",
       "      <th>timestamp</th>\n",
       "    </tr>\n",
       "  </thead>\n",
       "  <tbody>\n",
       "    <tr>\n",
       "      <th>0</th>\n",
       "      <td>1</td>\n",
       "      <td>1</td>\n",
       "      <td>4.0</td>\n",
       "      <td>964982703</td>\n",
       "    </tr>\n",
       "    <tr>\n",
       "      <th>1</th>\n",
       "      <td>1</td>\n",
       "      <td>3</td>\n",
       "      <td>4.0</td>\n",
       "      <td>964981247</td>\n",
       "    </tr>\n",
       "    <tr>\n",
       "      <th>2</th>\n",
       "      <td>1</td>\n",
       "      <td>6</td>\n",
       "      <td>4.0</td>\n",
       "      <td>964982224</td>\n",
       "    </tr>\n",
       "    <tr>\n",
       "      <th>3</th>\n",
       "      <td>1</td>\n",
       "      <td>47</td>\n",
       "      <td>5.0</td>\n",
       "      <td>964983815</td>\n",
       "    </tr>\n",
       "    <tr>\n",
       "      <th>4</th>\n",
       "      <td>1</td>\n",
       "      <td>50</td>\n",
       "      <td>5.0</td>\n",
       "      <td>964982931</td>\n",
       "    </tr>\n",
       "  </tbody>\n",
       "</table>\n",
       "</div>"
      ],
      "text/plain": [
       "   userId  movieId  rating  timestamp\n",
       "0       1        1     4.0  964982703\n",
       "1       1        3     4.0  964981247\n",
       "2       1        6     4.0  964982224\n",
       "3       1       47     5.0  964983815\n",
       "4       1       50     5.0  964982931"
      ]
     },
     "execution_count": 7,
     "metadata": {},
     "output_type": "execute_result"
    }
   ],
   "source": [
    "ratings.head()"
   ]
  },
  {
   "cell_type": "code",
   "execution_count": 8,
   "id": "8e8dfa81",
   "metadata": {},
   "outputs": [
    {
     "data": {
      "text/plain": [
       "(100836, 4)"
      ]
     },
     "execution_count": 8,
     "metadata": {},
     "output_type": "execute_result"
    }
   ],
   "source": [
    "ratings.shape"
   ]
  },
  {
   "cell_type": "code",
   "execution_count": 9,
   "id": "2dbe349a",
   "metadata": {},
   "outputs": [
    {
     "data": {
      "text/plain": [
       "610"
      ]
     },
     "execution_count": 9,
     "metadata": {},
     "output_type": "execute_result"
    }
   ],
   "source": [
    "ratings[\"userId\"].nunique()"
   ]
  },
  {
   "cell_type": "code",
   "execution_count": 10,
   "id": "c56fb940",
   "metadata": {},
   "outputs": [
    {
     "data": {
      "text/plain": [
       "'Forrest Gump (1994)'"
      ]
     },
     "execution_count": 10,
     "metadata": {},
     "output_type": "execute_result"
    }
   ],
   "source": [
    "## Movie recieved maximum number of user ratings\n",
    "ratings_count = ratings.groupby(\"movieId\")[\"rating\"].count()\n",
    "max_rated = ratings_count.idxmax()\n",
    "movies.loc[movies[\"movieId\"] == max_rated, \"title\"].iloc[0]"
   ]
  },
  {
   "cell_type": "code",
   "execution_count": 11,
   "id": "3d731e68",
   "metadata": {},
   "outputs": [],
   "source": [
    "tags = pd.read_csv(r\"D:/Desktop/movie_data/tags.csv\")"
   ]
  },
  {
   "cell_type": "code",
   "execution_count": 12,
   "id": "71c46e1b",
   "metadata": {},
   "outputs": [
    {
     "data": {
      "text/html": [
       "<div>\n",
       "<style scoped>\n",
       "    .dataframe tbody tr th:only-of-type {\n",
       "        vertical-align: middle;\n",
       "    }\n",
       "\n",
       "    .dataframe tbody tr th {\n",
       "        vertical-align: top;\n",
       "    }\n",
       "\n",
       "    .dataframe thead th {\n",
       "        text-align: right;\n",
       "    }\n",
       "</style>\n",
       "<table border=\"1\" class=\"dataframe\">\n",
       "  <thead>\n",
       "    <tr style=\"text-align: right;\">\n",
       "      <th></th>\n",
       "      <th>userId</th>\n",
       "      <th>movieId</th>\n",
       "      <th>tag</th>\n",
       "      <th>timestamp</th>\n",
       "    </tr>\n",
       "  </thead>\n",
       "  <tbody>\n",
       "    <tr>\n",
       "      <th>0</th>\n",
       "      <td>2</td>\n",
       "      <td>60756</td>\n",
       "      <td>funny</td>\n",
       "      <td>1445714994</td>\n",
       "    </tr>\n",
       "    <tr>\n",
       "      <th>1</th>\n",
       "      <td>2</td>\n",
       "      <td>60756</td>\n",
       "      <td>Highly quotable</td>\n",
       "      <td>1445714996</td>\n",
       "    </tr>\n",
       "    <tr>\n",
       "      <th>2</th>\n",
       "      <td>2</td>\n",
       "      <td>60756</td>\n",
       "      <td>will ferrell</td>\n",
       "      <td>1445714992</td>\n",
       "    </tr>\n",
       "    <tr>\n",
       "      <th>3</th>\n",
       "      <td>2</td>\n",
       "      <td>89774</td>\n",
       "      <td>Boxing story</td>\n",
       "      <td>1445715207</td>\n",
       "    </tr>\n",
       "    <tr>\n",
       "      <th>4</th>\n",
       "      <td>2</td>\n",
       "      <td>89774</td>\n",
       "      <td>MMA</td>\n",
       "      <td>1445715200</td>\n",
       "    </tr>\n",
       "  </tbody>\n",
       "</table>\n",
       "</div>"
      ],
      "text/plain": [
       "   userId  movieId              tag   timestamp\n",
       "0       2    60756            funny  1445714994\n",
       "1       2    60756  Highly quotable  1445714996\n",
       "2       2    60756     will ferrell  1445714992\n",
       "3       2    89774     Boxing story  1445715207\n",
       "4       2    89774              MMA  1445715200"
      ]
     },
     "execution_count": 12,
     "metadata": {},
     "output_type": "execute_result"
    }
   ],
   "source": [
    "tags.head()"
   ]
  },
  {
   "cell_type": "code",
   "execution_count": 13,
   "id": "ec16fa90",
   "metadata": {},
   "outputs": [],
   "source": [
    "## Tags submitted by users to \"Matrix, The (1999)\" movie"
   ]
  },
  {
   "cell_type": "code",
   "execution_count": 14,
   "id": "88e3655c",
   "metadata": {},
   "outputs": [
    {
     "name": "stdout",
     "output_type": "stream",
     "text": [
      "['martial arts' 'sci-fi' 'alternate universe' 'philosophy'\n",
      " 'post apocalyptic']\n"
     ]
    }
   ],
   "source": [
    "# Get the movie ID for \"Matrix, The (1999)\"\n",
    "matrix_movie_id = movies.loc[movies[\"title\"] == \"Matrix, The (1999)\", \"movieId\"].iloc[0]\n",
    "\n",
    "# Join the tags with the movies on the movie ID column\n",
    "movie_tags = pd.merge(tags, movies, on=\"movieId\")\n",
    "\n",
    "# Filter the results to only include tags for the \"Matrix, The (1999)\" movie\n",
    "matrix_tags = movie_tags.loc[movie_tags[\"movieId\"] == matrix_movie_id, [\"tag\"]]\n",
    "\n",
    "# Print the unique tags\n",
    "unique_tags = matrix_tags[\"tag\"].unique()\n",
    "print(unique_tags)"
   ]
  },
  {
   "cell_type": "code",
   "execution_count": 15,
   "id": "f314e86d",
   "metadata": {},
   "outputs": [],
   "source": [
    "## The average user rating for movie named \"Terminator 2: Judgment Day (1991)\"?"
   ]
  },
  {
   "cell_type": "code",
   "execution_count": 16,
   "id": "c8ec9904",
   "metadata": {},
   "outputs": [
    {
     "name": "stdout",
     "output_type": "stream",
     "text": [
      "3.970982142857143\n"
     ]
    }
   ],
   "source": [
    "terminator_movie_id = movies.loc[movies[\"title\"] == \"Terminator 2: Judgment Day (1991)\", \"movieId\"].iloc[0]\n",
    "\n",
    "# Filter the ratings to only include ratings for the \"Terminator 2: Judgment Day (1991)\" movie\n",
    "terminator_ratings = ratings.loc[ratings[\"movieId\"] == terminator_movie_id, \"rating\"]\n",
    "\n",
    "# Calculate the average rating\n",
    "average_rating = terminator_ratings.mean()\n",
    "\n",
    "print(average_rating)"
   ]
  },
  {
   "cell_type": "code",
   "execution_count": 17,
   "id": "730c9753",
   "metadata": {},
   "outputs": [],
   "source": [
    "## The data distribution of user ratings for \"Fight Club (1999)\" movie "
   ]
  },
  {
   "cell_type": "code",
   "execution_count": 18,
   "id": "7b5bcd8c",
   "metadata": {},
   "outputs": [
    {
     "data": {
      "image/png": "[encoded data removed]",
      "text/plain": [
       "<Figure size 640x480 with 1 Axes>"
      ]
     },
     "metadata": {},
     "output_type": "display_data"
    }
   ],
   "source": [
    "# Get the movie ID for \"Fight Club (1999)\"\n",
    "fight_club_movie_id = movies.loc[movies[\"title\"] == \"Fight Club (1999)\", \"movieId\"].iloc[0]\n",
    "\n",
    "# Filter the ratings to only include ratings for the \"Fight Club (1999)\" movie\n",
    "fight_club_ratings = ratings.loc[ratings[\"movieId\"] == fight_club_movie_id, \"rating\"]\n",
    "\n",
    "# Create a histogram of the ratings\n",
    "plt.hist(fight_club_ratings, bins=5, edgecolor='black')\n",
    "plt.xlabel('Rating')\n",
    "plt.ylabel('Frequency')\n",
    "plt.title('Distribution of User Ratings for \"Fight Club (1999)\"')\n",
    "plt.show()"
   ]
  },
  {
   "cell_type": "code",
   "execution_count": 19,
   "id": "097d6841",
   "metadata": {},
   "outputs": [
    {
     "name": "stdout",
     "output_type": "stream",
     "text": [
      "   movieId  count      mean\n",
      "0        1    215  3.920930\n",
      "1        2    110  3.431818\n",
      "2        3     52  3.259615\n",
      "3        4      7  2.357143\n",
      "4        5     49  3.071429\n"
     ]
    }
   ],
   "source": [
    "## Grouping the user ratings based on movieId and apply aggregation operations like count and mean on ratings\n",
    "grouped_ratings = ratings.groupby(\"movieId\")[\"rating\"].agg([\"count\", \"mean\"]).reset_index()\n",
    "print(grouped_ratings.head())"
   ]
  },
  {
   "cell_type": "code",
   "execution_count": 20,
   "id": "61373ecd",
   "metadata": {},
   "outputs": [
    {
     "name": "stdout",
     "output_type": "stream",
     "text": [
      "   movieId                               title  \\\n",
      "0        1                    Toy Story (1995)   \n",
      "1        2                      Jumanji (1995)   \n",
      "2        3             Grumpier Old Men (1995)   \n",
      "3        4            Waiting to Exhale (1995)   \n",
      "4        5  Father of the Bride Part II (1995)   \n",
      "\n",
      "                                        genres  count      mean  \n",
      "0  Adventure|Animation|Children|Comedy|Fantasy    215  3.920930  \n",
      "1                   Adventure|Children|Fantasy    110  3.431818  \n",
      "2                               Comedy|Romance     52  3.259615  \n",
      "3                         Comedy|Drama|Romance      7  2.357143  \n",
      "4                                       Comedy     49  3.071429  \n"
     ]
    }
   ],
   "source": [
    "## Applying inner join on dataframe created from movies.csv and the grouped df from step 1\n",
    "merged_df = pd.merge(movies, grouped_ratings, on=\"movieId\", how=\"inner\")\n",
    "print(merged_df.head())"
   ]
  },
  {
   "cell_type": "code",
   "execution_count": 21,
   "id": "26eefdf4",
   "metadata": {},
   "outputs": [
    {
     "name": "stdout",
     "output_type": "stream",
     "text": [
      "   movieId                    title  \\\n",
      "0        1         Toy Story (1995)   \n",
      "1        2           Jumanji (1995)   \n",
      "2        3  Grumpier Old Men (1995)   \n",
      "5        6              Heat (1995)   \n",
      "6        7           Sabrina (1995)   \n",
      "\n",
      "                                        genres  count      mean  \n",
      "0  Adventure|Animation|Children|Comedy|Fantasy    215  3.920930  \n",
      "1                   Adventure|Children|Fantasy    110  3.431818  \n",
      "2                               Comedy|Romance     52  3.259615  \n",
      "5                        Action|Crime|Thriller    102  3.946078  \n",
      "6                               Comedy|Romance     54  3.185185  \n"
     ]
    }
   ],
   "source": [
    "## Filtering only those movies which have more than 50 user ratings (i.e. > 50)\n",
    "filtered_df = merged_df[merged_df[\"count\"] > 50]\n",
    "print(filtered_df.head())"
   ]
  },
  {
   "cell_type": "code",
   "execution_count": 22,
   "id": "a064681c",
   "metadata": {},
   "outputs": [
    {
     "name": "stdout",
     "output_type": "stream",
     "text": [
      "                                title      mean\n",
      "277  Shawshank Redemption, The (1994)  4.429022\n"
     ]
    }
   ],
   "source": [
    "## The most popular based on  average user ratings\n",
    "most_popular_movie = filtered_df.sort_values(\"mean\", ascending=False).head(1)\n",
    "print(most_popular_movie[[\"title\", \"mean\"]])"
   ]
  },
  {
   "cell_type": "code",
   "execution_count": 23,
   "id": "ac353e20",
   "metadata": {},
   "outputs": [
    {
     "name": "stdout",
     "output_type": "stream",
     "text": [
      "                                 title  count\n",
      "314                Forrest Gump (1994)    329\n",
      "277   Shawshank Redemption, The (1994)    317\n",
      "257                Pulp Fiction (1994)    307\n",
      "510   Silence of the Lambs, The (1991)    279\n",
      "1938                Matrix, The (1999)    278\n"
     ]
    }
   ],
   "source": [
    "## Sorting the filtered_df in descending order based on rating_count\n",
    "top_5_movies = filtered_df.sort_values(\"count\", ascending=False).head(5)\n",
    "print(top_5_movies[[\"title\", \"count\"]])"
   ]
  },
  {
   "cell_type": "code",
   "execution_count": 24,
   "id": "8ce4581b",
   "metadata": {},
   "outputs": [
    {
     "name": "stdout",
     "output_type": "stream",
     "text": [
      "title    Jurassic Park (1993)\n",
      "count                     238\n",
      "Name: 418, dtype: object\n"
     ]
    }
   ],
   "source": [
    "## Filtering the dataframe to only include Sci-Fi movies\n",
    "scifi_movies = filtered_df[filtered_df['genres'].str.contains('Sci-Fi')]\n",
    "\n",
    "## Sorting the sci-fi_movies in descending order based on rating_count\n",
    "scifi_movies_sorted = scifi_movies.sort_values(\"count\", ascending=False)\n",
    "\n",
    "third_most_popular_scifi = scifi_movies_sorted.iloc[2]\n",
    "print(third_most_popular_scifi[[\"title\", \"count\"]])"
   ]
  },
  {
   "cell_type": "code",
   "execution_count": 25,
   "id": "21046dc4",
   "metadata": {},
   "outputs": [],
   "source": [
    "## Scrapping the IMDB reviews of each movie with more than 50 user ratings\n",
    "import requests\n",
    "import numpy as np\n",
    "from bs4 import BeautifulSoup\n",
    "\n",
    "def scrapper(imdbId):\n",
    "    id = str(int(imdbId))\n",
    "    n_zeroes = 7 - len(id)\n",
    "    new_id = \"0\"*n_zeroes + id\n",
    "    URL = f\"https://www.imdb.com/title/tt{new_id}/\"\n",
    "    request_header = {'Content-Type': 'text/html; charset=UTF-8', \n",
    "                      'User-Agent': 'Mozilla/5.0 (Windows NT 10.0; Win64; x64; rv:109.0) Gecko/20100101 Firefox/119.0', \n",
    "                      'Accept-Encoding': 'gzip, deflate, br'}\n",
    "    response = requests.get(URL, headers=request_header)\n",
    "    soup = BeautifulSoup(response.text, 'html.parser')\n",
    "    imdb_rating = soup.find('div', attrs={'class' : 'rating'})\n",
    "    return imdb_rating.text if imdb_rating else np.nan"
   ]
  },
  {
   "cell_type": "code",
   "execution_count": 26,
   "id": "23166ec9",
   "metadata": {},
   "outputs": [
    {
     "name": "stdout",
     "output_type": "stream",
     "text": [
      "   movieId  imdbId   tmdbId\n",
      "0        1  114709    862.0\n",
      "1        2  113497   8844.0\n",
      "2        3  113228  15602.0\n",
      "3        4  114885  31357.0\n",
      "4        5  113041  11862.0\n"
     ]
    }
   ],
   "source": [
    "links = pd.read_csv(\"D:/Desktop/movie_data/links.csv\")\n",
    "print(links.head())"
   ]
  },
  {
   "cell_type": "code",
   "execution_count": 27,
   "id": "f982eff0",
   "metadata": {},
   "outputs": [
    {
     "name": "stdout",
     "output_type": "stream",
     "text": [
      "   movieId                    title  \\\n",
      "0        1         Toy Story (1995)   \n",
      "1        2           Jumanji (1995)   \n",
      "2        3  Grumpier Old Men (1995)   \n",
      "3        6              Heat (1995)   \n",
      "4        7           Sabrina (1995)   \n",
      "\n",
      "                                        genres  count      mean  imdbId  \\\n",
      "0  Adventure|Animation|Children|Comedy|Fantasy    215  3.920930  114709   \n",
      "1                   Adventure|Children|Fantasy    110  3.431818  113497   \n",
      "2                               Comedy|Romance     52  3.259615  113228   \n",
      "3                        Action|Crime|Thriller    102  3.946078  113277   \n",
      "4                               Comedy|Romance     54  3.185185  114319   \n",
      "\n",
      "    tmdbId  \n",
      "0    862.0  \n",
      "1   8844.0  \n",
      "2  15602.0  \n",
      "3    949.0  \n",
      "4  11860.0  \n"
     ]
    }
   ],
   "source": [
    "merged_df = pd.merge(filtered_df, links, on='movieId', how='inner')\n",
    "print(merged_df.head())"
   ]
  },
  {
   "cell_type": "code",
   "execution_count": null,
   "id": "ed7ed1ba",
   "metadata": {},
   "outputs": [],
   "source": [
    "#results = [scrapper(imdbId) for imdbId in merged_df['imdbId']]\n",
    "#print(results)"
   ]
  },
  {
   "cell_type": "code",
   "execution_count": null,
   "id": "ccb68ad4",
   "metadata": {},
   "outputs": [],
   "source": [
    "# assuming df is your DataFrame with movie ratings\n",
    "movie_with_highest_rating = merged_df.loc[results['imdb_rating'].idxmax()]\n",
    "print(movie_with_highest_rating['movieId'])"
   ]
  },
  {
   "cell_type": "code",
   "execution_count": null,
   "id": "00b96de6",
   "metadata": {},
   "outputs": [],
   "source": []
  }
 ],
 "metadata": {
  "kernelspec": {
   "display_name": "Python 3 (ipykernel)",
   "language": "python",
   "name": "python3"
  },
  "language_info": {
   "codemirror_mode": {
    "name": "ipython",
    "version": 3
   },
   "file_extension": ".py",
   "mimetype": "text/x-python",
   "name": "python",
   "nbconvert_exporter": "python",
   "pygments_lexer": "ipython3",
   "version": "3.11.5"
  }
 },
 "nbformat": 4,
 "nbformat_minor": 5
}
